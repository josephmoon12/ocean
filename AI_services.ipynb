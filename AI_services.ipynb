{
  "nbformat": 4,
  "nbformat_minor": 0,
  "metadata": {
    "colab": {
      "name": "AI_services.ipynb",
      "provenance": [],
      "authorship_tag": "ABX9TyM8lr3dgm/QqrbjX2TR8ga8",
      "include_colab_link": true
    },
    "kernelspec": {
      "name": "python3",
      "display_name": "Python 3"
    }
  },
  "cells": [
    {
      "cell_type": "markdown",
      "metadata": {
        "id": "view-in-github",
        "colab_type": "text"
      },
      "source": [
        "<a href=\"https://colab.research.google.com/github/josephmoon12/ocean/blob/master/AI_services.ipynb\" target=\"_parent\"><img src=\"https://colab.research.google.com/assets/colab-badge.svg\" alt=\"Open In Colab\"/></a>"
      ]
    },
    {
      "cell_type": "markdown",
      "metadata": {
        "id": "TqKudF1Z70wN",
        "colab_type": "text"
      },
      "source": [
        "#인공지능 제품 또는 서비스(4가지)\n",
        "\n",
        "## 1. 네이버의 '파파고' (언어 분야)\n",
        "* 파파고(Papago)는 에스페란토어로 '앵무새'란 뜻으로, 2017월 8월에 정식 출시된 인공지능 번역 서비스이다.\n",
        "* 인공신경망 기반의 N2MT 기술을 사용하여, 문장의 전체의 맥락을 먼저 이해하고 구성 요소들을 번역하는 방식을 활용한다.\n",
        "\n",
        "\n",
        "## 2. 네이버의 '클로바' (음성 분야)\n",
        "* 클로바(Clova)는 2017년 5월 출시되었고, 2019년 7월 업그레이드 된 기술인 nVoice의 HDTS는 딥러닝(DNN)과 파형 접합 합성(UTS)을 결합한 하이브리드 음성합성(Hybrid Dnn Text-to-Speech) 기술을 사용하고 있다.\n",
        "* 인공지능 음성인식 기술로는 이외에도 구글 홈미니, 애플 시리, 아마존 알렉사, SK 누구 등 다양한 제품과 서비스가 있다.\n",
        "\n",
        "## 3. 두잉랩의 '푸드 렌즈' (이미지 분야)\n",
        "* 푸드 렌즈(Food Lens) 앱이 인식하는 음식은 한식·중식·양식·가공식품 등 총 6000개 정도이고, 인식 정확도는 90%가 넘는다고 한다.\n",
        "* 사진 한 장으로 정밀한 열량 계산과 식습관 분석을 할 수 있다고 하는데, 딥러닝 이미지 처리 기술을 사용하며, 푸드렌즈가 딥러닝을 통해 지금까지 데이터를 학습한 사진은 100만장이 넘는다고 한다.\n",
        "\n",
        "## 4. 테슬라의 자율주행차량 '모델3'와 자율주행시스템 '오토 파일럿' (자율주행차 분야)\n",
        "* 테슬라의 자율주행차량 모델3는 오토 파일럿(Autopilot) 자율주행 시스템을 기반으로 다양한 센서들과 통신 기술들이 합쳐져 만들어진다.\n",
        "* 이외 현대차, 구글, GM, 메르세데스 벤츠, 아우디 등 많은 기업들이 자율주행기능을 가진 차들을 만들고 있고, 2020년 7월부터는 자율주행차량의 판매가 가능해진다고 한다.\n",
        "* 2020년 현재 테슬라의 모델3가 가장 앞선 기술을 보여주며 다른 회사들의 자율주행기능을 가진 차량들과는 현격한 기술 차이가 있다고 한다.\n",
        "\n",
        "\n",
        "\n"
      ]
    }
  ]
}